{
 "cells": [
  {
   "cell_type": "code",
   "execution_count": 10,
   "metadata": {},
   "outputs": [
    {
     "name": "stdout",
     "output_type": "stream",
     "text": [
      "Regression coefficients: [ 90.57291617  -0.76497179]\n",
      "Predicted Y value: 57.4190386629\n"
     ]
    },
    {
     "data": {
      "image/png": "[encoded data removed]",
      "text/plain": [
       "<matplotlib.figure.Figure at 0x106a27a20>"
      ]
     },
     "metadata": {},
     "output_type": "display_data"
    }
   ],
   "source": [
    "\"\"\"\n",
    "Assignment #1: linear regression\n",
    "\"\"\"\n",
    "\n",
    "import matplotlib.pyplot as plt\n",
    "from scipy.optimize import curve_fit\n",
    "\n",
    "# regression function\n",
    "def fn(x, a, b):\n",
    "    return a + b*x\n",
    "\n",
    "x_train = [24.32, 28.34, 34.56, 39.45, 44.76, 50.32, 55.34, 60.43, 65.87, 88.98]\n",
    "y_train = [76.33, 70.34, 65.82, 60.23, 54.99, 50.22, 45.74, 40.34, 34.84, 30.23]\n",
    "\n",
    "coefs, pcov = curve_fit(fn, x_train, y_train)\n",
    "print('Regression coefficients:', coefs)\n",
    "\n",
    "x_test = 43.34\n",
    "y_test = fn(x_test, *coefs)\n",
    "print('Predicted Y value:', y_test)\n",
    "\n",
    "x_0 = 24.32\n",
    "y_0 = fn(x_0, *coefs)\n",
    "x_n = 88.98\n",
    "y_n = fn(x_n, *coefs)\n",
    "\n",
    "plt.plot(x_train, y_train, '-o')\n",
    "plt.plot(x_test, y_test, '-o')\n",
    "plt.plot([x_0, x_n], [y_0, y_n])\n",
    "plt.show()"
   ]
  },
  {
   "cell_type": "code",
   "execution_count": 11,
   "metadata": {},
   "outputs": [
    {
     "name": "stdout",
     "output_type": "stream",
     "text": [
      "Regression coefficients: [-104.61994959    1.0608639     1.07290974    0.76359813]\n",
      "Predicted Y value: 25.2683449774\n"
     ]
    }
   ],
   "source": [
    "\"\"\"\n",
    "Assignment #2: multiple linear regression\n",
    "\"\"\"\n",
    "\n",
    "from scipy.optimize import curve_fit\n",
    "\n",
    "# multiple regression function\n",
    "def fn(x, a, b, c, d):\n",
    "    return a + b*x[0] + c*x[1] + d*x[2]\n",
    "\n",
    "x1_train = [1, 5, 12, 23, 34, 53, 66, 69, 78]\n",
    "x2_train = [88, 77, 66, 56, 43, 34, 31, 23, 22]\n",
    "x3_train = [11, 32, 34, 45, 48, 65, 77, 88, 96]\n",
    "y_train = [2, 4, 8, 12, 17, 32, 54, 65, 77]\n",
    "\n",
    "coefs, pcov = curve_fit(fn, [x1_train, x2_train, x3_train], y_train)\n",
    "print('Regression coefficients:', coefs)\n",
    "\n",
    "x1_test = 33\n",
    "x2_test = 50\n",
    "x3_test = 54\n",
    "y_test = fn([x1_test, x2_test, x3_test], *coefs)\n",
    "print('Predicted Y value:', y_test)"
   ]
  },
  {
   "cell_type": "code",
   "execution_count": 84,
   "metadata": {},
   "outputs": [
    {
     "name": "stdout",
     "output_type": "stream",
     "text": [
      "Normalized dataset:\n",
      "          x1        x2        x3\n",
      "0 -0.047026  0.075744 -0.061778\n",
      "1 -0.041858  0.054381 -0.032293\n",
      "2 -0.032815  0.033017 -0.029485\n",
      "3 -0.018604  0.013595 -0.014041\n",
      "4 -0.005684  0.001942 -0.001404\n",
      "5 -0.004393 -0.011653 -0.009828\n",
      "6  0.020154 -0.029132  0.014041\n",
      "7  0.036949 -0.034959  0.030889\n",
      "8  0.040825 -0.050496  0.046334\n",
      "9  0.052452 -0.052438  0.057566\n",
      "\n",
      "Correlation matrix:\n",
      "           x1        x2        x3\n",
      "x1  1.000000 -0.969771  0.979437\n",
      "x2 -0.969771  1.000000 -0.964564\n",
      "x3  0.979437 -0.964564  1.000000\n",
      "\n",
      "Chi squared value: 43.83371066013893\n",
      "Chi squared value turns out to be greater than any table value with 3 degrees of freedom => dataset contains multi-collinear vectors\n",
      "\n",
      "Inverted correlation matrix:\n",
      " [[ 31.55024235  11.34907256 -19.9545652 ]\n",
      " [ 11.34907256  18.44678787   6.67740366]\n",
      " [-19.9545652    6.67740366  26.98501783]]\n",
      "\n",
      "F-test values: [106.92584822363089, 61.063757561443111, 90.947562403128984]\n",
      "From F-test tables(http://www.socr.ucla.edu/applets.dir/f_table.html) with probability α = 0.01 and degrees of freedom - 7,2 vector x1 is multi-colinear to others\n",
      "\n",
      "Partial correlation coefficients:\n",
      " [[-1.0, -0.47043393898440866, 0.68387946716990866], [-0.47043393898440872, -1.0, -0.2992856535104807], [0.68387946716990866, -0.2992856535104807, -1.0]]\n",
      "\n",
      "Student-test values:\n",
      " [[inf, 1.4104731875800887, 2.4799717367447416], [1.4104731875800891, inf, 0.82987387494300258], [2.4799717367447416, 0.82987387494300258, inf]]\n",
      "From T-test table(http://statpsy.ru/t-student/t-test-tablica/) if we take value with 7 degrees of freedom and p=0.05 - 2.365. So multiolinear are vectors x1 and x3\n",
      "\n"
     ]
    },
    {
     "name": "stderr",
     "output_type": "stream",
     "text": [
      "/Users/d.voitekh/.pyenv/versions/3.6.2/envs/virtualenv-3.6.2/lib/python3.6/site-packages/ipykernel_launcher.py:53: RuntimeWarning: divide by zero encountered in double_scalars\n"
     ]
    }
   ],
   "source": [
    "\"\"\"\n",
    "Assignment #3: multi-collinearity test\n",
    "\"\"\"\n",
    "\n",
    "import pandas as pd\n",
    "import numpy as np\n",
    "import scipy as sp\n",
    "from math import log, sqrt\n",
    "\n",
    "x1 = [1, 5, 12, 23, 33, 34, 53, 66, 69, 78]\n",
    "x2 = [88, 77, 66, 56, 50, 43, 34, 31, 23, 22]\n",
    "x3 = [11, 32, 34, 45, 54, 48, 65, 77, 88, 96]\n",
    "y = [2, 4, 8, 12, 25.3, 17, 32, 54, 65, 77]\n",
    "\n",
    "dataframe = pd.DataFrame({'x1': x1, 'x2': x2, 'x3': x3})\n",
    "\n",
    "# 1. Normalize and center dataset\n",
    "dataframe = (dataframe - dataframe.mean()) / dataframe.var()\n",
    "print('Normalized dataset:\\n', dataframe)\n",
    "print()\n",
    "\n",
    "# 2. Find correlation matrix\n",
    "corr_matrix = dataframe.corr()\n",
    "print('Correlation matrix:\\n', corr_matrix)\n",
    "print()\n",
    "\n",
    "# 3. Find Chi-squared value\n",
    "determinant = np.linalg.det(corr_matrix.as_matrix())\n",
    "m = len(dataframe)\n",
    "n = len(dataframe.keys())\n",
    "chi_squared = - ((m - 1) - (2 * n + 5) / 6) * log(determinant)\n",
    "print('Chi squared value:', chi_squared)\n",
    "print('Chi squared value turns out to be greater than any table value with 3 degrees of freedom => dataset contains multi-collinear vectors')\n",
    "print()\n",
    "\n",
    "# 4. Find inverted matrix\n",
    "inv_corr_matrix = sp.linalg.inv(corr_matrix.as_matrix())\n",
    "print('Inverted correlation matrix:\\n', inv_corr_matrix)\n",
    "print()\n",
    "\n",
    "# 5. Calculate F-test values\n",
    "f = [abs(inv_corr_matrix[i][i] - 1) * (m - n) / (n - 1) for i in range(n)]\n",
    "print('F-test values:', f)\n",
    "print('From F-test tables(http://www.socr.ucla.edu/applets.dir/f_table.html) with probability α = 0.01 and degrees of freedom - 7,2 vector x1 is multi-colinear to others')\n",
    "print()\n",
    "\n",
    "# 6. Calculate partial correlation coefficients\n",
    "p = [[-inv_corr_matrix[i][j] / sqrt(inv_corr_matrix[i][i] * inv_corr_matrix[j][j]) for j in range(n)] for i in range(n)]\n",
    "print('Partial correlation coefficients:\\n', p)\n",
    "print()\n",
    "\n",
    "# 7. Calculate Student-test values\n",
    "t = [[abs(p[i][j] * sqrt(m - n) / sqrt(1 - p[i][j] ** 2)) for j in range(n)] for i in range(n)]\n",
    "print('Student-test values:\\n', t)\n",
    "print('From T-test table(http://statpsy.ru/t-student/t-test-tablica/) if we take value with 7 degrees of freedom and p=0.05 - 2.365. So multiolinear are vectors x1 and x3')\n",
    "print()"
   ]
  },
  {
   "cell_type": "code",
   "execution_count": 82,
   "metadata": {},
   "outputs": [
    {
     "name": "stdout",
     "output_type": "stream",
     "text": [
      "Lower coefficients: [ 23.45283019   0.21855346  -0.23742138  -0.07075472]\n",
      "Higher coefficients: [-185.70722189   -0.51974083    2.12015005    2.68736738]\n",
      "F-test value: 1.3288256515\n",
      "From F-test table(http://www.socr.ucla.edu/applets.dir/f_table.html) find element with 1.0 degrees of freedom\n",
      "In table for all probabilitites related values are bigger than R, so hypothesis about absence of heteroscedasticity in the dataset is accepted\n"
     ]
    },
    {
     "name": "stderr",
     "output_type": "stream",
     "text": [
      "/Users/d.voitekh/.pyenv/versions/3.6.2/envs/virtualenv-3.6.2/lib/python3.6/site-packages/scipy/optimize/minpack.py:779: OptimizeWarning: Covariance of the parameters could not be estimated\n",
      "  category=OptimizeWarning)\n"
     ]
    }
   ],
   "source": [
    "\"\"\"\n",
    "Assignment #4: heteroscedasticity test\n",
    "\"\"\"\n",
    "\n",
    "import pandas as pd\n",
    "import numpy as np\n",
    "from scipy.optimize import curve_fit\n",
    "\n",
    "# multiple regression function\n",
    "def fn(x, a, b, c, d):\n",
    "    return a + b*x[0] + c*x[1] + d*x[2]\n",
    "\n",
    "x1 = [1, 5, 12, 23, 33, 34, 53, 66, 69, 78]\n",
    "x2 = [88, 77, 66, 56, 50, 43, 34, 31, 23, 22]\n",
    "x3 = [11, 32, 34, 45, 54, 48, 65, 77, 88, 96]\n",
    "y = [2, 4, 8, 12, 25.3, 17, 32, 54, 65, 77]\n",
    "\n",
    "# 1. Dataset is already sorted\n",
    "n = 10\n",
    "c = 2\n",
    "m = 3\n",
    "assert((n - c) / 2 > m)\n",
    "\n",
    "# 2. Take first 4 elements as 'low' and 4 last elements as 'high' (2 elements in the middle are excluded)\n",
    "dataframe = pd.DataFrame({'x1': x1, 'x2': x2, 'x3': x3, 'y': y})\n",
    "low = dataframe.as_matrix()[:4]\n",
    "high = dataframe.as_matrix()[5:]\n",
    "\n",
    "# 3. Build linear regression models for both segments\n",
    "low_coefs, _ = curve_fit(fn, [low[:, 0], low[:, 1], low[:, 2]], low[:, 3])\n",
    "high_coefs, _ = curve_fit(fn, [high[:, 0], high[:, 1], high[:, 2]], high[:, 3])\n",
    "print('Lower coefficients:', low_coefs)\n",
    "print('Higher coefficients:', high_coefs)\n",
    "\n",
    "# 4. Calculate sum squared errors\n",
    "low_err = 0\n",
    "high_err = 0\n",
    "for row in dataframe.as_matrix():\n",
    "    low_err += (fn(row[:3], *low_coefs) - row[3]) ** 2\n",
    "    high_err += (fn(row[:3], *high_coefs) - row[3]) ** 2\n",
    " \n",
    "# 5. Calculate F-test value\n",
    "R = high_err / low_err\n",
    "print('F-test value:', R)\n",
    "print('From F-test table(http://www.socr.ucla.edu/applets.dir/f_table.html) find element with %s degrees of freedom' % ((n - c - 2*m) / 2))\n",
    "print('In table for all probabilitites related values are bigger than R, so hypothesis about absence of heteroscedasticity in the dataset is accepted')"
   ]
  }
 ],
 "metadata": {
  "kernelspec": {
   "display_name": "Python 3",
   "language": "python",
   "name": "python3"
  },
  "language_info": {
   "codemirror_mode": {
    "name": "ipython",
    "version": 3
   },
   "file_extension": ".py",
   "mimetype": "text/x-python",
   "name": "python",
   "nbconvert_exporter": "python",
   "pygments_lexer": "ipython3",
   "version": "3.6.2"
  }
 },
 "nbformat": 4,
 "nbformat_minor": 2
}
